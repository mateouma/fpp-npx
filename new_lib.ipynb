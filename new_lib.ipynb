{
 "cells": [
  {
   "cell_type": "code",
   "execution_count": 1,
   "id": "4393aa0c",
   "metadata": {},
   "outputs": [],
   "source": [
    "%reload_ext autoreload\n",
    "%autoreload 2"
   ]
  },
  {
   "cell_type": "code",
   "execution_count": null,
   "id": "814df8cc",
   "metadata": {},
   "outputs": [],
   "source": [
    "import numpy as np\n",
    "import pandas as pd\n",
    "import mat73 as mt\n",
    "import matplotlib.pyplot as plt\n",
    "\n",
    "from fppnpx2.NPXSession import *"
   ]
  },
  {
   "cell_type": "markdown",
   "id": "aab75efd",
   "metadata": {},
   "source": [
    "## Testing"
   ]
  },
  {
   "cell_type": "code",
   "execution_count": 3,
   "id": "ffde5fd1",
   "metadata": {},
   "outputs": [],
   "source": [
    "cipath = \"/home/mateoumaguing/Documents/MiscData/TibsCFD/TIBERIUS_CHKDLAY_DLPFC_NPIX45_063023_g0/kilosort4/cluster_info.tsv\""
   ]
  },
  {
   "cell_type": "code",
   "execution_count": 94,
   "id": "879ffa04",
   "metadata": {},
   "outputs": [],
   "source": [
    "ci = pd.read_csv(cipath, sep=\"\\t\")"
   ]
  },
  {
   "cell_type": "code",
   "execution_count": null,
   "id": "56de367f",
   "metadata": {},
   "outputs": [],
   "source": [
    "ci = pd.read_csv(cipath, sep=\"\\t\")\n",
    "ci = ci[ci['group'] == 'good']"
   ]
  },
  {
   "cell_type": "code",
   "execution_count": 21,
   "id": "f6893595",
   "metadata": {},
   "outputs": [
    {
     "data": {
      "text/html": [
       "<div>\n",
       "<style scoped>\n",
       "    .dataframe tbody tr th:only-of-type {\n",
       "        vertical-align: middle;\n",
       "    }\n",
       "\n",
       "    .dataframe tbody tr th {\n",
       "        vertical-align: top;\n",
       "    }\n",
       "\n",
       "    .dataframe thead th {\n",
       "        text-align: right;\n",
       "    }\n",
       "</style>\n",
       "<table border=\"1\" class=\"dataframe\">\n",
       "  <thead>\n",
       "    <tr style=\"text-align: right;\">\n",
       "      <th></th>\n",
       "      <th>cluster_id</th>\n",
       "      <th>Amplitude</th>\n",
       "      <th>ContamPct</th>\n",
       "      <th>KSLabel</th>\n",
       "      <th>amp</th>\n",
       "      <th>ch</th>\n",
       "      <th>depth</th>\n",
       "      <th>fr</th>\n",
       "      <th>group</th>\n",
       "      <th>n_spikes</th>\n",
       "      <th>sh</th>\n",
       "    </tr>\n",
       "  </thead>\n",
       "  <tbody>\n",
       "    <tr>\n",
       "      <th>1</th>\n",
       "      <td>1</td>\n",
       "      <td>22.1</td>\n",
       "      <td>4.3</td>\n",
       "      <td>good</td>\n",
       "      <td>46.004280</td>\n",
       "      <td>2</td>\n",
       "      <td>40.0</td>\n",
       "      <td>0.562448</td>\n",
       "      <td>good</td>\n",
       "      <td>3923</td>\n",
       "      <td>0.0</td>\n",
       "    </tr>\n",
       "    <tr>\n",
       "      <th>3</th>\n",
       "      <td>3</td>\n",
       "      <td>9.9</td>\n",
       "      <td>4.9</td>\n",
       "      <td>good</td>\n",
       "      <td>34.914692</td>\n",
       "      <td>0</td>\n",
       "      <td>20.0</td>\n",
       "      <td>0.475565</td>\n",
       "      <td>good</td>\n",
       "      <td>3317</td>\n",
       "      <td>0.0</td>\n",
       "    </tr>\n",
       "    <tr>\n",
       "      <th>4</th>\n",
       "      <td>4</td>\n",
       "      <td>10.8</td>\n",
       "      <td>0.0</td>\n",
       "      <td>good</td>\n",
       "      <td>38.051731</td>\n",
       "      <td>3</td>\n",
       "      <td>40.0</td>\n",
       "      <td>0.427249</td>\n",
       "      <td>good</td>\n",
       "      <td>2980</td>\n",
       "      <td>0.0</td>\n",
       "    </tr>\n",
       "    <tr>\n",
       "      <th>14</th>\n",
       "      <td>14</td>\n",
       "      <td>20.1</td>\n",
       "      <td>0.0</td>\n",
       "      <td>good</td>\n",
       "      <td>34.306488</td>\n",
       "      <td>6</td>\n",
       "      <td>80.0</td>\n",
       "      <td>2.188430</td>\n",
       "      <td>good</td>\n",
       "      <td>15264</td>\n",
       "      <td>0.0</td>\n",
       "    </tr>\n",
       "    <tr>\n",
       "      <th>16</th>\n",
       "      <td>16</td>\n",
       "      <td>11.8</td>\n",
       "      <td>50.8</td>\n",
       "      <td>mua</td>\n",
       "      <td>27.166042</td>\n",
       "      <td>8</td>\n",
       "      <td>100.0</td>\n",
       "      <td>1.013927</td>\n",
       "      <td>good</td>\n",
       "      <td>7072</td>\n",
       "      <td>0.0</td>\n",
       "    </tr>\n",
       "  </tbody>\n",
       "</table>\n",
       "</div>"
      ],
      "text/plain": [
       "    cluster_id  Amplitude  ContamPct KSLabel        amp  ch  depth        fr  \\\n",
       "1            1       22.1        4.3    good  46.004280   2   40.0  0.562448   \n",
       "3            3        9.9        4.9    good  34.914692   0   20.0  0.475565   \n",
       "4            4       10.8        0.0    good  38.051731   3   40.0  0.427249   \n",
       "14          14       20.1        0.0    good  34.306488   6   80.0  2.188430   \n",
       "16          16       11.8       50.8     mua  27.166042   8  100.0  1.013927   \n",
       "\n",
       "   group  n_spikes   sh  \n",
       "1   good      3923  0.0  \n",
       "3   good      3317  0.0  \n",
       "4   good      2980  0.0  \n",
       "14  good     15264  0.0  \n",
       "16  good      7072  0.0  "
      ]
     },
     "execution_count": 21,
     "metadata": {},
     "output_type": "execute_result"
    }
   ],
   "source": [
    "ci.head()"
   ]
  },
  {
   "cell_type": "code",
   "execution_count": 8,
   "id": "5adb7a07",
   "metadata": {},
   "outputs": [],
   "source": [
    "wfpath = \"/home/mateoumaguing/Documents/MiscData/TibsCFD/20230630_DLPFCwaveforms.mat\""
   ]
  },
  {
   "cell_type": "code",
   "execution_count": 14,
   "id": "cd9f4f81",
   "metadata": {},
   "outputs": [],
   "source": [
    "agg = np.load(\"/home/mateoumaguing/Documents/MiscData/TibsCFD/TIBERIUS_CHKDLAY_DLPFC_NPIX45_063023_g0/kilosort4/templates.npy\")"
   ]
  },
  {
   "cell_type": "code",
   "execution_count": 96,
   "id": "efb4c78a",
   "metadata": {},
   "outputs": [],
   "source": [
    "template_amps = np.max(np.abs(agg), axis=1)"
   ]
  },
  {
   "cell_type": "code",
   "execution_count": 99,
   "id": "2feff6ce",
   "metadata": {},
   "outputs": [
    {
     "data": {
      "text/plain": [
       "(551, 383)"
      ]
     },
     "execution_count": 99,
     "metadata": {},
     "output_type": "execute_result"
    }
   ],
   "source": [
    "template_amps.shape"
   ]
  },
  {
   "cell_type": "code",
   "execution_count": 98,
   "id": "791199f7",
   "metadata": {},
   "outputs": [
    {
     "data": {
      "text/plain": [
       "array([ 9, 10, 11, 12, 13, 14, 15, 16, 17, 18, 19, 20, 21, 22, 23, 24, 27])"
      ]
     },
     "execution_count": 98,
     "metadata": {},
     "output_type": "execute_result"
    }
   ],
   "source": [
    "np.where(template_amps[:,13] > 0)[0]"
   ]
  },
  {
   "cell_type": "code",
   "execution_count": 12,
   "id": "22afa129",
   "metadata": {},
   "outputs": [],
   "source": [
    "wf = mt.loadmat(wfpath)['goodUnits']\n",
    "wf_pd= pd.DataFrame(wf)"
   ]
  },
  {
   "cell_type": "code",
   "execution_count": 47,
   "id": "2a0f1da8",
   "metadata": {},
   "outputs": [
    {
     "data": {
      "text/html": [
       "<div>\n",
       "<style scoped>\n",
       "    .dataframe tbody tr th:only-of-type {\n",
       "        vertical-align: middle;\n",
       "    }\n",
       "\n",
       "    .dataframe tbody tr th {\n",
       "        vertical-align: top;\n",
       "    }\n",
       "\n",
       "    .dataframe thead th {\n",
       "        text-align: right;\n",
       "    }\n",
       "</style>\n",
       "<table border=\"1\" class=\"dataframe\">\n",
       "  <thead>\n",
       "    <tr style=\"text-align: right;\">\n",
       "      <th></th>\n",
       "      <th>Amplitude</th>\n",
       "      <th>amp</th>\n",
       "      <th>channelId</th>\n",
       "      <th>cluId</th>\n",
       "      <th>cluster_waveforms</th>\n",
       "      <th>cluster_waveforms_time_relative</th>\n",
       "      <th>depth</th>\n",
       "      <th>fr</th>\n",
       "      <th>n_spikes</th>\n",
       "      <th>st</th>\n",
       "      <th>waveformTimeRelative</th>\n",
       "      <th>waveforms</th>\n",
       "    </tr>\n",
       "  </thead>\n",
       "  <tbody>\n",
       "    <tr>\n",
       "      <th>0</th>\n",
       "      <td>25.4</td>\n",
       "      <td>50.22740173</td>\n",
       "      <td>15.0</td>\n",
       "      <td>17.0</td>\n",
       "      <td>[[219.62215, nan], [228.13664, nan], [234.9485...</td>\n",
       "      <td>[-29, -28, -27, -26, -25, -24, -23, -22, -21, ...</td>\n",
       "      <td>160.0</td>\n",
       "      <td>5.35551717</td>\n",
       "      <td>37354.0</td>\n",
       "      <td>[5033, 26765, 70175, 106570, 121640, 126151, 1...</td>\n",
       "      <td>[-20.0, 41.0]</td>\n",
       "      <td>[[6, 0, 4, -5, -4, 2, 4, -4, 0, 2, 10, -4, -2,...</td>\n",
       "    </tr>\n",
       "    <tr>\n",
       "      <th>1</th>\n",
       "      <td>21.6</td>\n",
       "      <td>54.74397278</td>\n",
       "      <td>13.0</td>\n",
       "      <td>21.0</td>\n",
       "      <td>[[92.525246, nan], [90.372826, nan], [89.44674...</td>\n",
       "      <td>[-29, -28, -27, -26, -25, -24, -23, -22, -21, ...</td>\n",
       "      <td>140.0</td>\n",
       "      <td>4.1603683</td>\n",
       "      <td>29018.0</td>\n",
       "      <td>[1796, 4074, 7332, 21257, 32415, 35589, 43363,...</td>\n",
       "      <td>[-20.0, 41.0]</td>\n",
       "      <td>[[3, -2, 1, -1, 4, 9, -2, 3, 6, 1, 0, 6, 3, 2,...</td>\n",
       "    </tr>\n",
       "  </tbody>\n",
       "</table>\n",
       "</div>"
      ],
      "text/plain": [
       "  Amplitude          amp channelId cluId  \\\n",
       "0      25.4  50.22740173      15.0  17.0   \n",
       "1      21.6  54.74397278      13.0  21.0   \n",
       "\n",
       "                                   cluster_waveforms  \\\n",
       "0  [[219.62215, nan], [228.13664, nan], [234.9485...   \n",
       "1  [[92.525246, nan], [90.372826, nan], [89.44674...   \n",
       "\n",
       "                     cluster_waveforms_time_relative  depth          fr  \\\n",
       "0  [-29, -28, -27, -26, -25, -24, -23, -22, -21, ...  160.0  5.35551717   \n",
       "1  [-29, -28, -27, -26, -25, -24, -23, -22, -21, ...  140.0   4.1603683   \n",
       "\n",
       "  n_spikes                                                 st  \\\n",
       "0  37354.0  [5033, 26765, 70175, 106570, 121640, 126151, 1...   \n",
       "1  29018.0  [1796, 4074, 7332, 21257, 32415, 35589, 43363,...   \n",
       "\n",
       "  waveformTimeRelative                                          waveforms  \n",
       "0        [-20.0, 41.0]  [[6, 0, 4, -5, -4, 2, 4, -4, 0, 2, 10, -4, -2,...  \n",
       "1        [-20.0, 41.0]  [[3, -2, 1, -1, 4, 9, -2, 3, 6, 1, 0, 6, 3, 2,...  "
      ]
     },
     "execution_count": 47,
     "metadata": {},
     "output_type": "execute_result"
    }
   ],
   "source": [
    "wf_pd.iloc[0:2]"
   ]
  },
  {
   "cell_type": "code",
   "execution_count": 56,
   "id": "00252db5",
   "metadata": {},
   "outputs": [],
   "source": [
    "channel_map = np.load(\"/home/mateoumaguing/Documents/MiscData/TibsCFD/TIBERIUS_CHKDLAY_DLPFC_NPIX45_063023_g0/kilosort4/channel_map.npy\")"
   ]
  },
  {
   "cell_type": "code",
   "execution_count": 87,
   "id": "0c5a7ca1",
   "metadata": {},
   "outputs": [
    {
     "data": {
      "text/plain": [
       "(15907387,)"
      ]
     },
     "execution_count": 87,
     "metadata": {},
     "output_type": "execute_result"
    }
   ],
   "source": [
    "spk_template_path = \"/home/mateoumaguing/Documents/MiscData/TibsCFD/TIBERIUS_CHKDLAY_DLPFC_NPIX45_063023_g0/kilosort4/spike_templates.npy\"\n",
    "\n",
    "spk_templates = np.load(spk_template_path)\n",
    "spk_templates.shape"
   ]
  },
  {
   "cell_type": "code",
   "execution_count": 92,
   "id": "bd1ce2e9",
   "metadata": {},
   "outputs": [
    {
     "data": {
      "text/plain": [
       "(15907387,)"
      ]
     },
     "execution_count": 92,
     "metadata": {},
     "output_type": "execute_result"
    }
   ],
   "source": [
    "spk_clusters_path = \"/home/mateoumaguing/Documents/MiscData/TibsCFD/TIBERIUS_CHKDLAY_DLPFC_NPIX45_063023_g0/kilosort4/spike_clusters.npy\"\n",
    "\n",
    "spk_clusters = np.load(spk_clusters_path)\n",
    "spk_clusters.shape"
   ]
  },
  {
   "cell_type": "code",
   "execution_count": 93,
   "id": "2ae1ba43",
   "metadata": {},
   "outputs": [
    {
     "data": {
      "text/plain": [
       "array([  0,   1,   2,   3,   4,   5,   6,   7,   8,   9,  10,  11,  12,\n",
       "        13,  14,  15,  16,  17,  18,  19,  20,  21,  22,  23,  24,  25,\n",
       "        26,  27,  28,  29,  30,  31,  32,  33,  34,  35,  36,  37,  38,\n",
       "        39,  40,  41,  42,  43,  44,  45,  46,  47,  48,  49,  50,  51,\n",
       "        52,  53,  54,  55,  56,  57,  58,  59,  60,  61,  62,  63,  64,\n",
       "        65,  66,  67,  68,  69,  70,  71,  72,  73,  74,  75,  76,  77,\n",
       "        78,  79,  80,  82,  83,  84,  85,  86,  87,  88,  89,  90,  91,\n",
       "        92,  93,  94,  95,  96,  97,  98,  99, 100, 101, 102, 103, 104,\n",
       "       105, 106, 107, 108, 109, 110, 111, 112, 113, 114, 115, 116, 117,\n",
       "       118, 119, 120, 121, 123, 124, 125, 126, 127, 128, 129, 130, 131,\n",
       "       132, 133, 134, 135, 136, 137, 138, 139, 140, 141, 142, 143, 144,\n",
       "       145, 146, 147, 148, 149, 150, 151, 152, 153, 154, 155, 156, 157,\n",
       "       158, 159, 160, 161, 162, 163, 164, 165, 166, 167, 168, 169, 170,\n",
       "       171, 172, 173, 174, 175, 176, 177, 178, 179, 180, 181, 182, 183,\n",
       "       184, 185, 186, 187, 188, 189, 190, 191, 192, 193, 194, 195, 196,\n",
       "       197, 198, 199, 200, 201, 202, 203, 204, 205, 206, 207, 208, 209,\n",
       "       210, 211, 212, 213, 214, 215, 216, 217, 218, 219, 220, 221, 222,\n",
       "       223, 224, 225, 226, 227, 228, 229, 230, 231, 232, 233, 234, 235,\n",
       "       236, 237, 238, 239, 240, 241, 242, 243, 244, 245, 247, 248, 249,\n",
       "       250, 251, 252, 254, 255, 256, 257, 258, 259, 260, 261, 262, 263,\n",
       "       264, 265, 266, 267, 268, 269, 270, 271, 272, 273, 274, 275, 276,\n",
       "       277, 278, 279, 280, 281, 282, 283, 284, 285, 286, 287, 288, 289,\n",
       "       290, 291, 292, 293, 294, 295, 296, 297, 298, 299, 300, 301, 302,\n",
       "       303, 304, 305, 306, 307, 308, 309, 310, 311, 312, 313, 314, 315,\n",
       "       316, 317, 319, 320, 321, 322, 323, 324, 325, 326, 327, 328, 329,\n",
       "       331, 332, 333, 334, 335, 336, 337, 338, 339, 340, 341, 342, 343,\n",
       "       344, 345, 346, 347, 348, 350, 351, 352, 353, 354, 355, 356, 357,\n",
       "       358, 359, 360, 361, 362, 363, 365, 366, 368, 369, 370, 371, 372,\n",
       "       373, 374, 375, 376, 377, 378, 379, 380, 381, 382, 383, 384, 385,\n",
       "       386, 387, 388, 389, 390, 391, 392, 393, 394, 395, 396, 397, 398,\n",
       "       399, 400, 401, 402, 403, 404, 405, 406, 407, 408, 409, 410, 411,\n",
       "       412, 413, 414, 415, 416, 417, 418, 419, 420, 421, 422, 423, 424,\n",
       "       426, 427, 428, 429, 430, 431, 432, 433, 434, 435, 436, 437, 438,\n",
       "       439, 440, 441, 442, 443, 444, 445, 446, 447, 448, 449, 450, 451,\n",
       "       452, 453, 455, 457, 458, 459, 460, 461, 462, 463, 464, 465, 466,\n",
       "       467, 468, 469, 470, 472, 473, 474, 475, 476, 477, 478, 479, 480,\n",
       "       481, 482, 483, 484, 485, 486, 487, 488, 489, 490, 491, 492, 493,\n",
       "       494, 495, 496, 497, 498, 499, 500, 501, 502, 503, 504, 505, 506,\n",
       "       507, 508, 509, 510, 511, 512, 513, 514, 515, 516, 517, 518, 519,\n",
       "       520, 521, 523, 524, 525, 526, 527, 528, 529, 530, 531, 532, 533,\n",
       "       534, 535, 536, 537, 538, 539, 540, 541, 542, 543, 544, 545, 546,\n",
       "       547, 548, 549, 550, 551, 552, 553, 554, 555, 556, 557, 558, 561,\n",
       "       562, 570, 571, 572, 573, 574, 583, 584, 585, 586, 587, 588, 589],\n",
       "      dtype=int32)"
      ]
     },
     "execution_count": 93,
     "metadata": {},
     "output_type": "execute_result"
    }
   ],
   "source": [
    "np.unique(spk_clusters)"
   ]
  },
  {
   "cell_type": "markdown",
   "id": "fda5c26e",
   "metadata": {},
   "source": [
    "## New stuff"
   ]
  },
  {
   "cell_type": "code",
   "execution_count": 35,
   "id": "6a7f1d8d",
   "metadata": {},
   "outputs": [],
   "source": [
    "tester = Path('/home/mateoumaguing/Documents/MiscData/TibsCFD/TIBERIUS_CHKDLAY_DLPFC_NPIX45_063023_g0')"
   ]
  },
  {
   "cell_type": "code",
   "execution_count": 42,
   "id": "ab953a4a",
   "metadata": {},
   "outputs": [
    {
     "name": "stdout",
     "output_type": "stream",
     "text": [
      "Creating session from /home/mateoumaguing/Documents/MiscData/TibsCFD/TIBERIUS_CHKDLAY_DLPFC_NPIX45_063023_g0\n",
      "/home/mateoumaguing/Documents/MiscData/TibsCFD/TIBERIUS_CHKDLAY_DLPFC_NPIX45_063023_g0/TIBERIUS_CHKDLAY_DLPFC_NPIX45_063023_g0_t0.exported.imec0.ap.bin\n",
      "Reading metadata...\n",
      "Reading recorded signal...\n",
      "383 usable channels\n"
     ]
    }
   ],
   "source": [
    "tester = read_session([5,10], bandtype='AP')"
   ]
  }
 ],
 "metadata": {
  "kernelspec": {
   "display_name": "wavemapspec",
   "language": "python",
   "name": "python3"
  },
  "language_info": {
   "codemirror_mode": {
    "name": "ipython",
    "version": 3
   },
   "file_extension": ".py",
   "mimetype": "text/x-python",
   "name": "python",
   "nbconvert_exporter": "python",
   "pygments_lexer": "ipython3",
   "version": "3.9.21"
  }
 },
 "nbformat": 4,
 "nbformat_minor": 5
}
